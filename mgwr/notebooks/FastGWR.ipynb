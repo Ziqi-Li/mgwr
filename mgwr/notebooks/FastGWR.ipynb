{
 "cells": [
  {
   "cell_type": "code",
   "execution_count": 22,
   "metadata": {},
   "outputs": [],
   "source": [
    "import sys\n",
    "sys.path.append('/Users/Ziqi/Desktop/developer/mgwr/')\n",
    "from mgwr.gwr import GWR\n",
    "from mgwr.FastGWR import FastGWR\n",
    "from mgwr.sel_bw import Sel_BW\n",
    "import pandas as pd\n",
    "import numpy as np"
   ]
  },
  {
   "cell_type": "code",
   "execution_count": 23,
   "metadata": {},
   "outputs": [],
   "source": [
    "zillow = pd.read_csv(\"/Users/Ziqi/Desktop/developer/gwr-hpc/zillow_15k.csv\",sep=',')\n",
    "zillow.head()\n",
    "y = zillow.value.as_matrix().reshape(-1,1)\n",
    "X = zillow.iloc[:,3:].as_matrix()\n",
    "k = zillow.shape[1]\n",
    "u = zillow.utmX\n",
    "v = zillow.utmY\n",
    "n = zillow.shape[0]\n",
    "coords = list(zip(u,v))"
   ]
  },
  {
   "cell_type": "code",
   "execution_count": null,
   "metadata": {},
   "outputs": [
    {
     "name": "stdout",
     "output_type": "stream",
     "text": [
      "mpiexec -n 4 python /Users/Ziqi/Desktop/developer/mgwr/mgwr/FastGWR_mpi.py -data /var/folders/h8/x0q8wyd52sz085tl9zwzrx7w0000gn/T/tmpobmjyutd -out /var/folders/h8/x0q8wyd52sz085tl9zwzrx7w0000gn/T/tmpdxkc4ynn\n",
      "CPU times: user 455 ms, sys: 86.6 ms, total: 542 ms\n",
      "Wall time: 3min 59s\n"
     ]
    }
   ],
   "source": [
    "%%time \n",
    "fast_rslt = FastGWR(coords,y,X).fit(nproc=4) #FastGWR fitting with optimal bw seaching"
   ]
  },
  {
   "cell_type": "code",
   "execution_count": null,
   "metadata": {},
   "outputs": [],
   "source": [
    "%%time \n",
    "bw = Sel_BW(coords,y,X).search(bw_min=45) #MGWR fitting with optimal bw seaching\n",
    "rslt = GWR(coords,y,X,bw=bw).fit()"
   ]
  },
  {
   "cell_type": "code",
   "execution_count": 24,
   "metadata": {},
   "outputs": [
    {
     "name": "stdout",
     "output_type": "stream",
     "text": [
      "mpiexec -n 4 python /Users/Ziqi/Desktop/developer/mgwr/mgwr/FastGWR_mpi.py -data /var/folders/h8/x0q8wyd52sz085tl9zwzrx7w0000gn/T/tmpx73m5zu9 -out /var/folders/h8/x0q8wyd52sz085tl9zwzrx7w0000gn/T/tmppkjvul82 -bw 122\n",
      "CPU times: user 540 ms, sys: 244 ms, total: 784 ms\n",
      "Wall time: 17.6 s\n"
     ]
    }
   ],
   "source": [
    "%%time\n",
    "fast_rslt = FastGWR(coords,y,X,bw=122).fit(nproc=4) #FastGWR fitting with defined bandwidth"
   ]
  },
  {
   "cell_type": "code",
   "execution_count": 25,
   "metadata": {},
   "outputs": [
    {
     "name": "stdout",
     "output_type": "stream",
     "text": [
      "CPU times: user 1min 28s, sys: 27 s, total: 1min 55s\n",
      "Wall time: 2min 28s\n"
     ]
    }
   ],
   "source": [
    "%%time\n",
    "rslt = GWR(coords,y,X,bw=122).fit() #MGWR fitting with defined bandwidth"
   ]
  },
  {
   "cell_type": "code",
   "execution_count": 20,
   "metadata": {},
   "outputs": [
    {
     "name": "stdout",
     "output_type": "stream",
     "text": [
      "1041.6607662675278\n",
      "1041.6607662675278\n"
     ]
    }
   ],
   "source": [
    "#tr_S\n",
    "print(rslt.tr_S)\n",
    "print(fast_rslt.tr_S)"
   ]
  },
  {
   "cell_type": "code",
   "execution_count": 21,
   "metadata": {},
   "outputs": [
    {
     "name": "stdout",
     "output_type": "stream",
     "text": [
      "124374.05181029711\n",
      "124374.0518102971\n"
     ]
    }
   ],
   "source": [
    "#AICc\n",
    "print(rslt.aicc)\n",
    "print(fast_rslt.aicc)"
   ]
  },
  {
   "cell_type": "code",
   "execution_count": null,
   "metadata": {},
   "outputs": [],
   "source": [
    "#Sigma2\n",
    "print(rslt.sigma2)\n",
    "print(fast_rslt.sigma2)"
   ]
  },
  {
   "cell_type": "code",
   "execution_count": null,
   "metadata": {},
   "outputs": [],
   "source": [
    "np.allclose(fast_rslt.params, rslt.params)"
   ]
  },
  {
   "cell_type": "code",
   "execution_count": null,
   "metadata": {},
   "outputs": [],
   "source": [
    "np.allclose(fast_rslt.bse, rslt.bse)"
   ]
  },
  {
   "cell_type": "code",
   "execution_count": null,
   "metadata": {},
   "outputs": [],
   "source": [
    "np.allclose(fast_rslt.predy, rslt.predy.reshape(-1))"
   ]
  },
  {
   "cell_type": "code",
   "execution_count": null,
   "metadata": {},
   "outputs": [],
   "source": []
  },
  {
   "cell_type": "code",
   "execution_count": null,
   "metadata": {},
   "outputs": [],
   "source": []
  }
 ],
 "metadata": {
  "kernelspec": {
   "display_name": "Python [default]",
   "language": "python",
   "name": "python3"
  },
  "language_info": {
   "codemirror_mode": {
    "name": "ipython",
    "version": 3
   },
   "file_extension": ".py",
   "mimetype": "text/x-python",
   "name": "python",
   "nbconvert_exporter": "python",
   "pygments_lexer": "ipython3",
   "version": "3.5.4"
  }
 },
 "nbformat": 4,
 "nbformat_minor": 2
}
