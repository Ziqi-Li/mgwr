{
 "cells": [
  {
   "cell_type": "code",
   "execution_count": 5,
   "metadata": {},
   "outputs": [],
   "source": [
    "import sys\n",
    "sys.path.append('/Users/Ziqi/Desktop/developer/mgwr/')\n",
    "from mgwr.gwr import GWR\n",
    "from mgwr.FastGWR import FastGWR\n",
    "from mgwr.sel_bw import Sel_BW\n",
    "import pandas as pd\n",
    "import numpy as np"
   ]
  },
  {
   "cell_type": "code",
   "execution_count": 6,
   "metadata": {},
   "outputs": [],
   "source": [
    "zillow = pd.read_csv(\"zillow_10k.csv\",sep=',')\n",
    "zillow.head()\n",
    "y = zillow.value.as_matrix().reshape(-1,1)\n",
    "X = zillow.iloc[:,3:].as_matrix()\n",
    "k = zillow.shape[1]\n",
    "u = zillow.utmX\n",
    "v = zillow.utmY\n",
    "n = zillow.shape[0]\n",
    "coords = list(zip(u,v))"
   ]
  },
  {
   "cell_type": "code",
   "execution_count": 7,
   "metadata": {},
   "outputs": [
    {
     "name": "stdout",
     "output_type": "stream",
     "text": [
      "mpiexec -n 4 python /Users/Ziqi/Desktop/developer/mgwr/mgwr/FastGWR_mpi.py -data temp_data.csv -out fastGWRResults.csv\n",
      "CPU times: user 294 ms, sys: 32.2 ms, total: 326 ms\n",
      "Wall time: 1min 38s\n"
     ]
    }
   ],
   "source": [
    "%%time \n",
    "fast_rslt = FastGWR(coords,y,X).fit(nproc=4) #FastGWR fitting with optimal bw seaching"
   ]
  },
  {
   "cell_type": "code",
   "execution_count": 8,
   "metadata": {},
   "outputs": [
    {
     "name": "stdout",
     "output_type": "stream",
     "text": [
      "CPU times: user 2min 24s, sys: 49.3 s, total: 3min 13s\n",
      "Wall time: 3min 20s\n"
     ]
    }
   ],
   "source": [
    "%%time \n",
    "bw = Sel_BW(coords,y,X).search(bw_min=45) #MGWR fitting with optimal bw seaching\n",
    "rslt = GWR(coords,y,X,bw=122).fit()"
   ]
  },
  {
   "cell_type": "code",
   "execution_count": 9,
   "metadata": {},
   "outputs": [
    {
     "name": "stdout",
     "output_type": "stream",
     "text": [
      "mpiexec -n 4 python /Users/Ziqi/Desktop/developer/mgwr/mgwr/FastGWR_mpi.py -data temp_data.csv -out fastGWRResults.csv -bw 122\n",
      "CPU times: user 283 ms, sys: 186 ms, total: 470 ms\n",
      "Wall time: 7.94 s\n"
     ]
    }
   ],
   "source": [
    "%%time\n",
    "fast_rslt = FastGWR(coords,y,X,bw=122).fit(nproc=4) #FastGWR fitting with defined bandwidth"
   ]
  },
  {
   "cell_type": "code",
   "execution_count": 10,
   "metadata": {},
   "outputs": [
    {
     "name": "stdout",
     "output_type": "stream",
     "text": [
      "CPU times: user 35.5 s, sys: 5.73 s, total: 41.3 s\n",
      "Wall time: 41.8 s\n"
     ]
    }
   ],
   "source": [
    "%%time\n",
    "rslt = GWR(coords,y,X,bw=122).fit() #MGWR fitting with defined bandwidth"
   ]
  },
  {
   "cell_type": "code",
   "execution_count": 11,
   "metadata": {},
   "outputs": [
    {
     "name": "stdout",
     "output_type": "stream",
     "text": [
      "1041.6607662675278\n",
      "1041.6607662675278\n"
     ]
    }
   ],
   "source": [
    "#tr_S\n",
    "print(rslt.tr_S)\n",
    "print(fast_rslt.tr_S)"
   ]
  },
  {
   "cell_type": "code",
   "execution_count": 12,
   "metadata": {},
   "outputs": [
    {
     "name": "stdout",
     "output_type": "stream",
     "text": [
      "124374.05181029711\n",
      "124374.0518102971\n"
     ]
    }
   ],
   "source": [
    "#AICc\n",
    "print(rslt.aicc)\n",
    "print(fast_rslt.aicc)"
   ]
  },
  {
   "cell_type": "code",
   "execution_count": 13,
   "metadata": {},
   "outputs": [
    {
     "name": "stdout",
     "output_type": "stream",
     "text": [
      "13051.99722906043\n",
      "13051.99722906043\n"
     ]
    }
   ],
   "source": [
    "#Sigma2\n",
    "print(rslt.sigma2)\n",
    "print(fast_rslt.sigma2)"
   ]
  },
  {
   "cell_type": "code",
   "execution_count": 14,
   "metadata": {},
   "outputs": [
    {
     "data": {
      "text/plain": [
       "True"
      ]
     },
     "execution_count": 14,
     "metadata": {},
     "output_type": "execute_result"
    }
   ],
   "source": [
    "np.allclose(fast_rslt.params, rslt.params)"
   ]
  },
  {
   "cell_type": "code",
   "execution_count": 15,
   "metadata": {},
   "outputs": [
    {
     "data": {
      "text/plain": [
       "True"
      ]
     },
     "execution_count": 15,
     "metadata": {},
     "output_type": "execute_result"
    }
   ],
   "source": [
    "np.allclose(fast_rslt.bse, rslt.bse)"
   ]
  },
  {
   "cell_type": "code",
   "execution_count": 16,
   "metadata": {},
   "outputs": [
    {
     "data": {
      "text/plain": [
       "True"
      ]
     },
     "execution_count": 16,
     "metadata": {},
     "output_type": "execute_result"
    }
   ],
   "source": [
    "np.allclose(fast_rslt.predy, rslt.predy.reshape(-1))"
   ]
  },
  {
   "cell_type": "code",
   "execution_count": null,
   "metadata": {},
   "outputs": [],
   "source": []
  }
 ],
 "metadata": {
  "kernelspec": {
   "display_name": "Python [default]",
   "language": "python",
   "name": "python3"
  },
  "language_info": {
   "codemirror_mode": {
    "name": "ipython",
    "version": 3
   },
   "file_extension": ".py",
   "mimetype": "text/x-python",
   "name": "python",
   "nbconvert_exporter": "python",
   "pygments_lexer": "ipython3",
   "version": "3.5.4"
  }
 },
 "nbformat": 4,
 "nbformat_minor": 2
}
