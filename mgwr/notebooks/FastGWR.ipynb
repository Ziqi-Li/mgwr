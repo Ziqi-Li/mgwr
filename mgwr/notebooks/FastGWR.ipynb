{
 "cells": [
  {
   "cell_type": "code",
   "execution_count": 23,
   "metadata": {},
   "outputs": [],
   "source": [
    "import sys\n",
    "sys.path.append('/Users/Ziqi/Desktop/developer/mgwr/')\n",
    "from mgwr.gwr import GWR\n",
    "from mgwr.FastGWR import FastGWR\n",
    "from mgwr.sel_bw import Sel_BW\n",
    "import pandas as pd\n",
    "import numpy as np"
   ]
  },
  {
   "cell_type": "code",
   "execution_count": 35,
   "metadata": {},
   "outputs": [],
   "source": [
    "zillow = pd.read_csv(\"zillow_5k.csv\",sep=',')\n",
    "zillow.head()\n",
    "y = zillow.value.as_matrix().reshape(-1,1)\n",
    "X = zillow.iloc[:,3:].as_matrix()\n",
    "k = zillow.shape[1]\n",
    "u = zillow.utmX\n",
    "v = zillow.utmY\n",
    "n = zillow.shape[0]\n",
    "coords = list(zip(u,v))"
   ]
  },
  {
   "cell_type": "code",
   "execution_count": 3,
   "metadata": {},
   "outputs": [
    {
     "name": "stdout",
     "output_type": "stream",
     "text": [
      "mpiexec -n 4 python /Users/Ziqi/Desktop/developer/gwr-hpc/FastGWR_mpi.py -data temp_data.csv -out fastGWRResults.csv\n",
      "CPU times: user 148 ms, sys: 24.8 ms, total: 173 ms\n",
      "Wall time: 30.3 s\n"
     ]
    }
   ],
   "source": [
    "%%time\n",
    "fast_rslt = FastGWR(coords,y,X).fit(nproc=4)"
   ]
  },
  {
   "cell_type": "code",
   "execution_count": 33,
   "metadata": {},
   "outputs": [
    {
     "name": "stdout",
     "output_type": "stream",
     "text": [
      "mpiexec -n 2 python /Users/Ziqi/Desktop/developer/gwr-hpc/FastGWR_mpi.py -data temp_data.csv -out fastGWRResults.csv -bw 122\n",
      "CPU times: user 175 ms, sys: 30.2 ms, total: 205 ms\n",
      "Wall time: 4.23 s\n"
     ]
    }
   ],
   "source": [
    "%%time\n",
    "fast_rslt = FastGWR(coords,y,X,bw=122).fit(nproc=2)"
   ]
  },
  {
   "cell_type": "code",
   "execution_count": 30,
   "metadata": {},
   "outputs": [
    {
     "name": "stderr",
     "output_type": "stream",
     "text": [
      "ERROR:root:Internal Python error in the inspect module.\n",
      "Below is the traceback from this internal error.\n",
      "\n"
     ]
    },
    {
     "name": "stdout",
     "output_type": "stream",
     "text": [
      "Traceback (most recent call last):\n",
      "  File \"/Users/Ziqi/anaconda/lib/python3.5/site-packages/IPython/core/magics/execution.py\", line 1238, in time\n",
      "    exec(code, glob, local_ns)\n",
      "  File \"<timed exec>\", line 2, in <module>\n",
      "  File \"/Users/Ziqi/Desktop/developer/mgwr/mgwr/gwr.py\", line 255, in __init__\n",
      "    self.W = self._build_W(fixed, kernel, coords, bw)\n",
      "  File \"/Users/Ziqi/Desktop/developer/mgwr/mgwr/gwr.py\", line 265, in _build_W\n",
      "    W = ak[kernel](coords, bw, points, self.dmat, self.sorted_dmat,spherical=self.spherical)\n",
      "  File \"/Users/Ziqi/Desktop/developer/mgwr/mgwr/kernels.py\", line 29, in adapt_bisquare\n",
      "    w = _Kernel(coords, fixed=False, k=nn-1, function='bisquare', points=points, dmat=dmat,sorted_dmat=sorted_dmat,spherical=spherical)\n",
      "  File \"/Users/Ziqi/Desktop/developer/mgwr/mgwr/kernels.py\", line 102, in __init__\n",
      "    self.dmat = cdist(self.data, self.data, self.spherical)\n",
      "  File \"/Users/Ziqi/Desktop/developer/mgwr/mgwr/kernels.py\", line 68, in cdist\n",
      "    dmat = cdist_scipy(coords1,coords2)\n",
      "  File \"/Users/Ziqi/anaconda/lib/python3.5/site-packages/scipy/spatial/distance.py\", line 2206, in cdist\n",
      "    cdist_fn(XA, XB, dm)\n",
      "KeyboardInterrupt\n",
      "\n",
      "During handling of the above exception, another exception occurred:\n",
      "\n",
      "Traceback (most recent call last):\n",
      "  File \"/Users/Ziqi/anaconda/lib/python3.5/site-packages/IPython/core/interactiveshell.py\", line 1828, in showtraceback\n",
      "    stb = value._render_traceback_()\n",
      "AttributeError: 'KeyboardInterrupt' object has no attribute '_render_traceback_'\n",
      "\n",
      "During handling of the above exception, another exception occurred:\n",
      "\n",
      "Traceback (most recent call last):\n",
      "  File \"/Users/Ziqi/anaconda/lib/python3.5/site-packages/IPython/core/ultratb.py\", line 1090, in get_records\n",
      "    return _fixed_getinnerframes(etb, number_of_lines_of_context, tb_offset)\n",
      "  File \"/Users/Ziqi/anaconda/lib/python3.5/site-packages/IPython/core/ultratb.py\", line 311, in wrapped\n",
      "    return f(*args, **kwargs)\n",
      "  File \"/Users/Ziqi/anaconda/lib/python3.5/site-packages/IPython/core/ultratb.py\", line 345, in _fixed_getinnerframes\n",
      "    records = fix_frame_records_filenames(inspect.getinnerframes(etb, context))\n",
      "  File \"/Users/Ziqi/anaconda/lib/python3.5/inspect.py\", line 1459, in getinnerframes\n",
      "    frameinfo = (tb.tb_frame,) + getframeinfo(tb, context)\n",
      "  File \"/Users/Ziqi/anaconda/lib/python3.5/inspect.py\", line 1417, in getframeinfo\n",
      "    filename = getsourcefile(frame) or getfile(frame)\n",
      "  File \"/Users/Ziqi/anaconda/lib/python3.5/inspect.py\", line 677, in getsourcefile\n",
      "    if getattr(getmodule(object, filename), '__loader__', None) is not None:\n",
      "  File \"/Users/Ziqi/anaconda/lib/python3.5/inspect.py\", line 714, in getmodule\n",
      "    if ismodule(module) and hasattr(module, '__file__'):\n",
      "KeyboardInterrupt\n"
     ]
    },
    {
     "ename": "KeyboardInterrupt",
     "evalue": "",
     "output_type": "error",
     "traceback": [
      "\u001b[0;31m---------------------------------------------------------------------------\u001b[0m"
     ]
    }
   ],
   "source": [
    "%%time \n",
    "#bw = Sel_BW(coords,y,X).search(bw_min=45)\n",
    "rslt = GWR(coords,y,X,bw=122).fit()"
   ]
  },
  {
   "cell_type": "code",
   "execution_count": 14,
   "metadata": {},
   "outputs": [
    {
     "name": "stdout",
     "output_type": "stream",
     "text": [
      "524.111964802687\n",
      "524.111964802687\n"
     ]
    }
   ],
   "source": [
    "#tr_S\n",
    "print(rslt.tr_S)\n",
    "print(fast_rslt.tr_S)"
   ]
  },
  {
   "cell_type": "code",
   "execution_count": 15,
   "metadata": {},
   "outputs": [
    {
     "name": "stdout",
     "output_type": "stream",
     "text": [
      "61866.751504274434\n",
      "61866.751504274434\n"
     ]
    }
   ],
   "source": [
    "#AICc\n",
    "print(rslt.aicc)\n",
    "print(fast_rslt.aicc)"
   ]
  },
  {
   "cell_type": "code",
   "execution_count": 16,
   "metadata": {},
   "outputs": [
    {
     "name": "stdout",
     "output_type": "stream",
     "text": [
      "12227.724215085895\n",
      "12227.724215085893\n"
     ]
    }
   ],
   "source": [
    "#Sigma2\n",
    "print(rslt.sigma2)\n",
    "print(fast_rslt.sigma2)"
   ]
  },
  {
   "cell_type": "code",
   "execution_count": 17,
   "metadata": {},
   "outputs": [
    {
     "data": {
      "text/plain": [
       "True"
      ]
     },
     "execution_count": 17,
     "metadata": {},
     "output_type": "execute_result"
    }
   ],
   "source": [
    "np.allclose(fast_rslt.params, rslt.params)"
   ]
  },
  {
   "cell_type": "code",
   "execution_count": 18,
   "metadata": {},
   "outputs": [
    {
     "data": {
      "text/plain": [
       "True"
      ]
     },
     "execution_count": 18,
     "metadata": {},
     "output_type": "execute_result"
    }
   ],
   "source": [
    "np.allclose(fast_rslt.bse, rslt.bse)"
   ]
  },
  {
   "cell_type": "code",
   "execution_count": 19,
   "metadata": {},
   "outputs": [
    {
     "data": {
      "text/plain": [
       "True"
      ]
     },
     "execution_count": 19,
     "metadata": {},
     "output_type": "execute_result"
    }
   ],
   "source": [
    "np.allclose(fast_rslt.predy, rslt.predy.reshape(-1))"
   ]
  },
  {
   "cell_type": "code",
   "execution_count": null,
   "metadata": {},
   "outputs": [],
   "source": []
  },
  {
   "cell_type": "code",
   "execution_count": null,
   "metadata": {},
   "outputs": [],
   "source": []
  }
 ],
 "metadata": {
  "kernelspec": {
   "display_name": "Python [default]",
   "language": "python",
   "name": "python3"
  },
  "language_info": {
   "codemirror_mode": {
    "name": "ipython",
    "version": 3
   },
   "file_extension": ".py",
   "mimetype": "text/x-python",
   "name": "python",
   "nbconvert_exporter": "python",
   "pygments_lexer": "ipython3",
   "version": "3.5.4"
  }
 },
 "nbformat": 4,
 "nbformat_minor": 2
}
