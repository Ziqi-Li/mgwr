{
 "cells": [
  {
   "cell_type": "code",
   "execution_count": 1,
   "metadata": {},
   "outputs": [],
   "source": [
    "import sys\n",
    "sys.path.append('/Users/Ziqi/Desktop/developer/mgwr/')\n",
    "from mgwr.gwr import GWR\n",
    "from mgwr.FastGWR import FastGWR\n",
    "from mgwr.sel_bw import Sel_BW\n",
    "import pandas as pd\n",
    "import numpy as np"
   ]
  },
  {
   "cell_type": "code",
   "execution_count": 2,
   "metadata": {},
   "outputs": [],
   "source": [
    "zillow = pd.read_csv(\"/Users/Ziqi/Desktop/developer/gwr-hpc/zillow_15k.csv\",sep=',')\n",
    "zillow.head()\n",
    "y = zillow.value.as_matrix().reshape(-1,1)\n",
    "X = zillow.iloc[:,3:].as_matrix()\n",
    "k = zillow.shape[1]\n",
    "u = zillow.utmX\n",
    "v = zillow.utmY\n",
    "n = zillow.shape[0]\n",
    "coords = list(zip(u,v))"
   ]
  },
  {
   "cell_type": "code",
   "execution_count": 3,
   "metadata": {},
   "outputs": [],
   "source": [
    "#Adaptive Bisquare"
   ]
  },
  {
   "cell_type": "code",
   "execution_count": 4,
   "metadata": {},
   "outputs": [
    {
     "name": "stdout",
     "output_type": "stream",
     "text": [
      "CPU times: user 427 ms, sys: 29.1 ms, total: 456 ms\n",
      "Wall time: 3min 45s\n"
     ]
    }
   ],
   "source": [
    "%%time \n",
    "fast_rslt = FastGWR(coords,y,X).fit(nproc=2) #FastGWR fitting with optimal bw seaching"
   ]
  },
  {
   "cell_type": "code",
   "execution_count": 5,
   "metadata": {},
   "outputs": [
    {
     "name": "stdout",
     "output_type": "stream",
     "text": [
      "CPU times: user 5min 54s, sys: 3min 56s, total: 9min 51s\n",
      "Wall time: 14min 46s\n"
     ]
    }
   ],
   "source": [
    "%%time \n",
    "bw = Sel_BW(coords,y,X).search() #MGWR fitting with optimal bw seaching\n",
    "rslt = GWR(coords,y,X,bw=bw).fit()"
   ]
  },
  {
   "cell_type": "code",
   "execution_count": 6,
   "metadata": {},
   "outputs": [
    {
     "name": "stdout",
     "output_type": "stream",
     "text": [
      "1053.314183297261\n",
      "1053.314183297261\n",
      "186063.51147149547\n",
      "186063.5114714955\n",
      "13199.728882664554\n",
      "13199.72888266456\n",
      "True\n",
      "True\n",
      "True\n"
     ]
    }
   ],
   "source": [
    "#tr_S\n",
    "print(rslt.tr_S)\n",
    "print(fast_rslt.tr_S)\n",
    "#AICc\n",
    "print(rslt.aicc)\n",
    "print(fast_rslt.aicc)\n",
    "#Sigma2\n",
    "print(rslt.sigma2)\n",
    "print(fast_rslt.sigma2)\n",
    "#Estimtaes\n",
    "print(np.allclose(fast_rslt.params, rslt.params))\n",
    "print(np.allclose(fast_rslt.bse, rslt.bse))\n",
    "print(np.allclose(fast_rslt.predy, rslt.predy.reshape(-1)))"
   ]
  },
  {
   "cell_type": "code",
   "execution_count": 7,
   "metadata": {},
   "outputs": [],
   "source": [
    "#Fixed Gaussian"
   ]
  },
  {
   "cell_type": "code",
   "execution_count": 17,
   "metadata": {},
   "outputs": [
    {
     "name": "stdout",
     "output_type": "stream",
     "text": [
      "CPU times: user 433 ms, sys: 79.4 ms, total: 513 ms\n",
      "Wall time: 18.8 s\n"
     ]
    }
   ],
   "source": [
    "%%time\n",
    "fast_rslt = FastGWR(coords,y,X,fixed=True,bw=10000).fit(nproc=2) #FastGWR fitting with optimal bw seaching"
   ]
  },
  {
   "cell_type": "code",
   "execution_count": 18,
   "metadata": {},
   "outputs": [
    {
     "name": "stdout",
     "output_type": "stream",
     "text": [
      "CPU times: user 1min 6s, sys: 17.6 s, total: 1min 24s\n",
      "Wall time: 2min\n"
     ]
    }
   ],
   "source": [
    "%%time\n",
    "rslt = GWR(coords,y,X,bw=10000,fixed=True,kernel='gaussian').fit()"
   ]
  },
  {
   "cell_type": "code",
   "execution_count": 19,
   "metadata": {},
   "outputs": [
    {
     "name": "stdout",
     "output_type": "stream",
     "text": [
      "38.90050865124418\n",
      "38.90050865124418\n",
      "188446.97760932142\n",
      "188446.9776093214\n",
      "16689.196891303494\n",
      "16689.196891303494\n",
      "True\n",
      "True\n",
      "True\n"
     ]
    }
   ],
   "source": [
    "#tr_S\n",
    "print(rslt.tr_S)\n",
    "print(fast_rslt.tr_S)\n",
    "#AICc\n",
    "print(rslt.aicc)\n",
    "print(fast_rslt.aicc)\n",
    "#Sigma2\n",
    "print(rslt.sigma2)\n",
    "print(fast_rslt.sigma2)\n",
    "#Estimtaes\n",
    "print(np.allclose(fast_rslt.params, rslt.params))\n",
    "print(np.allclose(fast_rslt.bse, rslt.bse))\n",
    "print(np.allclose(fast_rslt.predy, rslt.predy.reshape(-1)))"
   ]
  },
  {
   "cell_type": "code",
   "execution_count": null,
   "metadata": {},
   "outputs": [],
   "source": []
  },
  {
   "cell_type": "code",
   "execution_count": null,
   "metadata": {},
   "outputs": [],
   "source": []
  },
  {
   "cell_type": "code",
   "execution_count": null,
   "metadata": {},
   "outputs": [],
   "source": []
  }
 ],
 "metadata": {
  "kernelspec": {
   "display_name": "Python [default]",
   "language": "python",
   "name": "python3"
  },
  "language_info": {
   "codemirror_mode": {
    "name": "ipython",
    "version": 3
   },
   "file_extension": ".py",
   "mimetype": "text/x-python",
   "name": "python",
   "nbconvert_exporter": "python",
   "pygments_lexer": "ipython3",
   "version": "3.5.4"
  }
 },
 "nbformat": 4,
 "nbformat_minor": 2
}
